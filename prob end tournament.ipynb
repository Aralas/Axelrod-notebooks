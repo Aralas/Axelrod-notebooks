{
 "cells": [
  {
   "cell_type": "code",
   "execution_count": 23,
   "metadata": {
    "collapsed": false
   },
   "outputs": [],
   "source": [
    "import axelrod as axl\n",
    "import matplotlib.pyplot as plt\n",
    "import seaborn as sn\n",
    "import random\n",
    "from numpy import mean\n",
    "%matplotlib inline"
   ]
  },
  {
   "cell_type": "code",
   "execution_count": 3,
   "metadata": {
    "collapsed": false
   },
   "outputs": [],
   "source": [
    "def plot_match_lengths(p_end, reps):\n",
    "    trnmt = axl.ProbEndTournament([s() for s in axl.basic_strategies], prob_end=p_end, keep_matches=True, repetitions=reps)\n",
    "    _ = trnmt.play()\n",
    "\n",
    "    plt.figure()\n",
    "    lengths = [len(m) for rep in trnmt.matches for m in rep]\n",
    "    plt.hist(lengths);\n",
    "    plt.xlim(1, max(lengths))\n",
    "    plt.title(\"$p={};$ reps$={}$\" .format(p_end, reps));\n",
    "    return plt"
   ]
  },
  {
   "cell_type": "code",
   "execution_count": 4,
   "metadata": {
    "collapsed": false
   },
   "outputs": [
    {
     "data": {
      "image/png": "[encoded data removed]",
      "text/plain": [
       "<matplotlib.figure.Figure at 0x10b0d6588>"
      ]
     },
     "metadata": {},
     "output_type": "display_data"
    }
   ],
   "source": [
    "plot_match_lengths(0.4,  10);"
   ]
  },
  {
   "cell_type": "code",
   "execution_count": 5,
   "metadata": {
    "collapsed": false
   },
   "outputs": [
    {
     "data": {
      "image/png": "[encoded data removed]",
      "text/plain": [
       "<matplotlib.figure.Figure at 0x10b2bd630>"
      ]
     },
     "metadata": {},
     "output_type": "display_data"
    }
   ],
   "source": [
    "plot_match_lengths(.1,  10);"
   ]
  },
  {
   "cell_type": "code",
   "execution_count": 6,
   "metadata": {
    "collapsed": false
   },
   "outputs": [
    {
     "data": {
      "image/png": "[encoded data removed]",
      "text/plain": [
       "<matplotlib.figure.Figure at 0x10b7a76a0>"
      ]
     },
     "metadata": {},
     "output_type": "display_data"
    }
   ],
   "source": [
    "plot_match_lengths(.01,  10);"
   ]
  },
  {
   "cell_type": "code",
   "execution_count": 7,
   "metadata": {
    "collapsed": false
   },
   "outputs": [
    {
     "data": {
      "image/png": "[encoded data removed]",
      "text/plain": [
       "<matplotlib.figure.Figure at 0x10b2cf400>"
      ]
     },
     "metadata": {},
     "output_type": "display_data"
    }
   ],
   "source": [
    "plot_match_lengths(.5,  10);"
   ]
  },
  {
   "cell_type": "code",
   "execution_count": 60,
   "metadata": {
    "collapsed": false
   },
   "outputs": [],
   "source": [
    "random.seed(3)\n",
    "p_end, reps = .01, 2\n",
    "players = [axl.Random(), axl.Cooperator(), axl.Alternator(), axl.Defector(), axl.Random()]\n",
    "trnmt = axl.ProbEndTournament(players, prob_end=p_end, keep_matches=True, repetitions=reps)\n",
    "results = trnmt.play()"
   ]
  },
  {
   "cell_type": "code",
   "execution_count": 61,
   "metadata": {
    "collapsed": false
   },
   "outputs": [
    {
     "data": {
      "text/plain": [
       "{('C', 'C'): (3, 3),\n",
       " ('C', 'D'): (0, 5),\n",
       " ('D', 'C'): (5, 0),\n",
       " ('D', 'D'): (1, 1)}"
      ]
     },
     "execution_count": 61,
     "metadata": {},
     "output_type": "execute_result"
    }
   ],
   "source": [
    "trnmt.game.scores"
   ]
  },
  {
   "cell_type": "code",
   "execution_count": 62,
   "metadata": {
    "collapsed": false
   },
   "outputs": [
    {
     "data": {
      "text/plain": [
       "[Random: 0.5, Cooperator, Alternator, Defector, Random: 0.5]"
      ]
     },
     "execution_count": 62,
     "metadata": {},
     "output_type": "execute_result"
    }
   ],
   "source": [
    "trnmt.players"
   ]
  },
  {
   "cell_type": "code",
   "execution_count": 63,
   "metadata": {
    "collapsed": false
   },
   "outputs": [],
   "source": [
    "lengths = [[len(m) for m in rep] for rep in trnmt.matches]\n",
    "players = [(m.player1, m.player2) for rep in trnmt.matches for m in rep]\n",
    "scores = [m.scores(trnmt.game) for rep in trnmt.matches for m in rep]"
   ]
  },
  {
   "cell_type": "code",
   "execution_count": 64,
   "metadata": {
    "collapsed": false
   },
   "outputs": [
    {
     "data": {
      "text/plain": [
       "[[<axelrod.match.Match at 0x10c88eba8>,\n",
       "  <axelrod.match.Match at 0x10c4014e0>,\n",
       "  <axelrod.match.Match at 0x10c88e7b8>,\n",
       "  <axelrod.match.Match at 0x10c8ca710>,\n",
       "  <axelrod.match.Match at 0x10c9a8470>,\n",
       "  <axelrod.match.Match at 0x10c8caba8>,\n",
       "  <axelrod.match.Match at 0x10c9a8748>,\n",
       "  <axelrod.match.Match at 0x10c88e048>,\n",
       "  <axelrod.match.Match at 0x10c9a8780>,\n",
       "  <axelrod.match.Match at 0x10c9a8278>,\n",
       "  <axelrod.match.Match at 0x10c88eb00>,\n",
       "  <axelrod.match.Match at 0x10c9a8e80>,\n",
       "  <axelrod.match.Match at 0x10c88e358>,\n",
       "  <axelrod.match.Match at 0x10c8caf98>,\n",
       "  <axelrod.match.Match at 0x10c88e5f8>],\n",
       " [<axelrod.match.Match at 0x10c8ca898>,\n",
       "  <axelrod.match.Match at 0x10c8ca3c8>,\n",
       "  <axelrod.match.Match at 0x10c8ca588>,\n",
       "  <axelrod.match.Match at 0x10c8cab70>,\n",
       "  <axelrod.match.Match at 0x10c8caa20>,\n",
       "  <axelrod.match.Match at 0x10c8ca828>,\n",
       "  <axelrod.match.Match at 0x10c8ca048>,\n",
       "  <axelrod.match.Match at 0x10c8ca4a8>,\n",
       "  <axelrod.match.Match at 0x10c8caf60>,\n",
       "  <axelrod.match.Match at 0x10c8caeb8>,\n",
       "  <axelrod.match.Match at 0x10c8ca080>,\n",
       "  <axelrod.match.Match at 0x10c8ca518>,\n",
       "  <axelrod.match.Match at 0x10c8ca668>,\n",
       "  <axelrod.match.Match at 0x10c8ca2e8>,\n",
       "  <axelrod.match.Match at 0x10c8ca240>]]"
      ]
     },
     "execution_count": 64,
     "metadata": {},
     "output_type": "execute_result"
    }
   ],
   "source": [
    "trnmt.matches"
   ]
  },
  {
   "cell_type": "code",
   "execution_count": 65,
   "metadata": {
    "collapsed": false
   },
   "outputs": [
    {
     "name": "stdout",
     "output_type": "stream",
     "text": [
      "[{0: 29.770692947060617, 1: 37.398223322401002, 2: 0, 3: 0, 4: 0}, {0: 28.944251252078963, 1: 38.415344102071892, 2: 0, 3: 0, 4: 0}]\n"
     ]
    }
   ],
   "source": [
    "scores_per_reps = [{j:0 for j, _ in enumerate(trnmt.players)} for rep in trnmt.matches]\n",
    "for i, matches in enumerate(trnmt.matches):\n",
    "    for match in matches:\n",
    "        scores = match.scores()\n",
    "        for j, p in enumerate(match.players):\n",
    "            scores_per_reps[i][j] += mean([s[j] for s in scores])\n",
    "            \n",
    "print(scores_per_reps)"
   ]
  },
  {
   "cell_type": "code",
   "execution_count": 66,
   "metadata": {
    "collapsed": false
   },
   "outputs": [
    {
     "data": {
      "image/png": "[encoded data removed]",
      "text/plain": [
       "<matplotlib.figure.Figure at 0x10c77c4e0>"
      ]
     },
     "metadata": {},
     "output_type": "display_data"
    }
   ],
   "source": [
    "plt.violinplot([[rep[j] for rep in scores_per_reps] for j,_ in enumerate(trnmt.players)]);"
   ]
  },
  {
   "cell_type": "code",
   "execution_count": null,
   "metadata": {
    "collapsed": true
   },
   "outputs": [],
   "source": []
  }
 ],
 "metadata": {
  "kernelspec": {
   "display_name": "Python 3",
   "language": "python",
   "name": "python3"
  },
  "language_info": {
   "codemirror_mode": {
    "name": "ipython",
    "version": 3
   },
   "file_extension": ".py",
   "mimetype": "text/x-python",
   "name": "python",
   "nbconvert_exporter": "python",
   "pygments_lexer": "ipython3",
   "version": "3.5.0"
  }
 },
 "nbformat": 4,
 "nbformat_minor": 0
}
