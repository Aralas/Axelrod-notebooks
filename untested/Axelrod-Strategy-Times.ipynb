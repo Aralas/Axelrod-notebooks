{
 "cells": [
  {
   "cell_type": "markdown",
   "metadata": {},
   "source": [
    "This notebook computes the average strategy runtime by pitting each strategy versus each other strategy. It will take a few hours to run."
   ]
  },
  {
   "cell_type": "code",
   "execution_count": 6,
   "metadata": {
    "collapsed": true
   },
   "outputs": [],
   "source": [
    "import timeit\n",
    "\n",
    "import numpy as np\n",
    "import pandas as pd\n",
    "\n",
    "import axelrod as axl"
   ]
  },
  {
   "cell_type": "code",
   "execution_count": 7,
   "metadata": {
    "collapsed": true
   },
   "outputs": [],
   "source": [
    "strategies = axl.strategies\n",
    "reps = 20"
   ]
  },
  {
   "cell_type": "code",
   "execution_count": 8,
   "metadata": {
    "collapsed": false
   },
   "outputs": [],
   "source": [
    "def play_matches(s1, s2, reps=20):\n",
    "    match = axl.Match(players=(s1(), s2()), turns=100)\n",
    "    for _ in range(reps):\n",
    "        match.play()"
   ]
  },
  {
   "cell_type": "code",
   "execution_count": 9,
   "metadata": {
    "collapsed": false
   },
   "outputs": [],
   "source": [
    "data = []        \n",
    "        \n",
    "for s1 in strategies:\n",
    "    times = []\n",
    "    for s2 in strategies:\n",
    "        t = timeit.timeit(lambda: play_matches(s1, s2, reps=reps), number=1)\n",
    "        times.append(t / float(reps))\n",
    "    data.append((str(s1()), np.mean(times), np.std(times)))\n",
    "\n",
    "df = pd.DataFrame(data, columns=[\"Player Name\", \"Mean Time\", \"Std Time\"])\n",
    "df.sort_values(by=\"Mean Time\", inplace=True, ascending=False)"
   ]
  },
  {
   "cell_type": "code",
   "execution_count": 10,
   "metadata": {
    "collapsed": false
   },
   "outputs": [
    {
     "name": "stdout",
     "output_type": "stream",
     "text": [
      "                     Player Name  Mean Time   Std Time\n",
      "45                        Geller   2.364258  12.156240\n",
      "79                   Mind Reader   1.520905   8.703081\n",
      "92         Protected Mind Reader   1.512659   8.700015\n",
      "47               Geller Defector   0.362436   0.715352\n",
      "81            Mirror Mind Reader   0.362024   0.720167\n",
      "46             Geller Cooperator   0.357598   0.709635\n",
      "26                        Darwin   0.354589   0.690721\n",
      "134                  Meta Winner   0.162879   0.750178\n",
      "141                   Meta Mixer   0.155564   0.712755\n",
      "133                Meta Minority   0.139740   0.614238\n",
      "132                Meta Majority   0.137985   0.624223\n",
      "140      Meta Winner Long Memory   0.130046   0.609614\n",
      "139    Meta Majority Long Memory   0.112917   0.511678\n",
      "138    Meta Winner Finite Memory   0.090466   0.409023\n",
      "137  Meta Majority Finite Memory   0.078583   0.351208\n",
      "136       Meta Winner Memory One   0.060976   0.265651\n",
      "135     Meta Majority Memory One   0.057070   0.248712\n",
      "43                   PSO Gambler   0.049304   0.200303\n",
      "67             Hesitant QLearner   0.045791   0.188372\n",
      "10             Arrogant QLearner   0.045656   0.187398\n",
      "102               Risky QLearner   0.045148   0.185345\n",
      "15             Cautious QLearner   0.045024   0.184654\n",
      "68                       Inverse   0.044104   0.183974\n",
      "125               ZD-Extort-2 v2   0.044060   0.183605\n",
      "61                       Grofman   0.043912   0.184099\n",
      "110              Stochastic WSLS   0.043576   0.180912\n",
      "124                  ZD-Extort-2   0.043488   0.180818\n",
      "33                          Feld   0.043372   0.180069\n",
      "120                      Tullock   0.043238   0.179121\n",
      "95                   Random: 0.5   0.043228   0.179316\n",
      "..                           ...        ...        ...\n",
      "123          Win-Stay Lose-Shift   0.009183   0.068446\n",
      "98               Retaliate (0.1)   0.009164   0.067860\n",
      "24                     Cycler DC   0.009158   0.069100\n",
      "99              Retaliate (0.08)   0.009156   0.068108\n",
      "66              Hard Tit For Tat   0.009143   0.068464\n",
      "83                      Nydegger   0.009140   0.068430\n",
      "104        Slow Tit For Two Tats   0.009138   0.068211\n",
      "40         Forgiving Tit For Tat   0.009130   0.068529\n",
      "63                        Grumpy   0.009129   0.068508\n",
      "84                     Omega TFT   0.009123   0.067825\n",
      "85                   Once Bitten   0.009109   0.067687\n",
      "22                   Cycler CCCD   0.009108   0.068073\n",
      "8          Adapative Pavlov 2011   0.009108   0.068047\n",
      "62                       Grudger   0.009099   0.068121\n",
      "106                 Soft Grudger   0.009098   0.068047\n",
      "23                    Cycler CCD   0.009095   0.068295\n",
      "21                 Cycler CCCCCD   0.009080   0.067746\n",
      "29               Defector Hunter   0.009076   0.067956\n",
      "7          Adapative Pavlov 2006   0.009070   0.067653\n",
      "38             Forgetful Grudger   0.009069   0.068127\n",
      "39                      Forgiver   0.009069   0.068085\n",
      "96                 Random Hunter   0.009066   0.067700\n",
      "25                    Cycler DDC   0.009034   0.068013\n",
      "27                         Davis   0.009020   0.067919\n",
      "28                      Defector   0.009003   0.068814\n",
      "18                    Cooperator   0.008938   0.067789\n",
      "1                     Aggravater   0.008833   0.067179\n",
      "80                   Mind Warper   0.000666   0.004936\n",
      "78               Mind Controller   0.000661   0.004974\n",
      "77                   Mind Bender   0.000076   0.000109\n",
      "\n",
      "[142 rows x 3 columns]\n"
     ]
    }
   ],
   "source": [
    "print(df)"
   ]
  },
  {
   "cell_type": "code",
   "execution_count": 11,
   "metadata": {
    "collapsed": true
   },
   "outputs": [],
   "source": [
    "df.to_csv(\"runtimes.csv\")"
   ]
  },
  {
   "cell_type": "code",
   "execution_count": null,
   "metadata": {
    "collapsed": true
   },
   "outputs": [],
   "source": []
  }
 ],
 "metadata": {
  "kernelspec": {
   "display_name": "Python 2",
   "language": "python",
   "name": "python2"
  },
  "language_info": {
   "codemirror_mode": {
    "name": "ipython",
    "version": 2
   },
   "file_extension": ".py",
   "mimetype": "text/x-python",
   "name": "python",
   "nbconvert_exporter": "python",
   "pygments_lexer": "ipython2",
   "version": "2.7.11"
  }
 },
 "nbformat": 4,
 "nbformat_minor": 0
}
